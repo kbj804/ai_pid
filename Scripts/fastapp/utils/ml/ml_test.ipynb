{
 "cells": [
  {
   "cell_type": "code",
   "execution_count": null,
   "id": "ba41f9d2",
   "metadata": {},
   "outputs": [],
   "source": [
    "'''\n",
    "가상환경 커널 적용방법\n",
    "가상환경 activate 이후에\n",
    "pip install jupyter\n",
    "pip install ipykernel\n",
    "python -m ipykernel install --user --name crolling --display-name \"원하는kernelname\"\n",
    "\n",
    "pip install requests\n",
    "pip install tabulate\n",
    "pip install \"colorama>=0.3.8\"\n",
    "pip install future\n",
    "pip install -f http://h2o-release.s3.amazonaws.com/h2o/latest_stable_Py.html h2o\n",
    "\n",
    "'''"
   ]
  },
  {
   "cell_type": "code",
   "execution_count": 4,
   "id": "b14d9fbb",
   "metadata": {},
   "outputs": [],
   "source": [
    "import h2o\n",
    "from h2o.automl import H2OAutoML\n",
    "from h2o.h2o import load_model\n",
    "from Scripts.fastapp.common.consts import H2O_MODEL_PATH\n",
    "import pandas as pd\n"
   ]
  },
  {
   "cell_type": "code",
   "execution_count": 1,
   "id": "3c2609ef",
   "metadata": {},
   "outputs": [],
   "source": [
    "class H2oClass:\n",
    "    def __init__(self):\n",
    "        super().__init__()\n",
    "        # Start H2O Server\n",
    "        h2o.init()\n",
    "        self.train=[]\n",
    "        self.test=[]\n",
    "        \n",
    "        self.x = None\n",
    "        self.y = None\n",
    "\n",
    "        self.model = None\n",
    "        self.preds = None\n",
    "\n",
    "        self.md_path = None\n",
    "\n",
    "    def load_csv_to_hf(self, path):\n",
    "        df = pd.read_csv(path, sep=',')\n",
    "        hf = h2o.H2OFrame(df)\n",
    "        return hf\n",
    "\n",
    "    def df_to_hf(self, df):\n",
    "        hf = h2o.H2OFrame(df)\n",
    "        return hf\n",
    "\n",
    "    def split_data(self, h_data):\n",
    "        print(\"## split Data START ##\")\n",
    "        self.train, self.test = h_data.split_frame(ratios = [.8], seed = 1234)\n",
    "\n",
    "        self.x = self.train.columns\n",
    "        self.y = \"y\"\n",
    "        self.x.remove(self.y)\n",
    "\n",
    "        # For binary classification, \"y\" should be a factor\n",
    "        self.train[self.y] = self.train[self.y].asfactor()\n",
    "        self.test[self.y] = self.test[self.y].asfactor()\n",
    "\n",
    "    def train_model(self):\n",
    "        print(\"## train START ##\")\n",
    "        # Setting parameter\n",
    "        aml = H2OAutoML(max_models=3\n",
    "                        , seed=1\n",
    "                    )\n",
    "\n",
    "        # Train Model\n",
    "        aml.train(x= self.x, y=self.y, training_frame=self.train)\n",
    "        \n",
    "        # aml.leaderboard\n",
    "        # Select Model in autoML\n",
    "        return aml.leader\n",
    "        # self.model.head(rows=self.model.nrows)\n",
    "\n",
    "    def save_md(self, model):\n",
    "        self.md_path = h2o.save_model(model=model, path=H2O_MODEL_PATH, force=True)\n",
    "\n",
    "    def load_md(self, H2O_MODEL_PATH):\n",
    "        self.model = h2o.load_model(H2O_MODEL_PATH)\n",
    "        return self.model\n",
    "\n",
    "    # 이거 없이 그냥 model.predict(hdf) 사용해도 됨\n",
    "    def predict(self, data):\n",
    "        # self.preds = self.aml.predict(data)\n",
    "        hf = self.model.predict(data)\n",
    "        df = h2o.as_list(hf)\n",
    "        self.preds = df[['predict']].values.flatten().tolist()\n",
    "\n",
    "        # self.test[self.y].cbind(self.preds)\n"
   ]
  },
  {
   "cell_type": "code",
   "execution_count": null,
   "id": "1d3364a9",
   "metadata": {},
   "outputs": [],
   "source": [
    "'''\n",
    "#%%  \n",
    "h = H2oClass()\n",
    "\n",
    "#%%\n",
    "data = h.load_csv_to_hf(\"h2o_sample.csv\")\n",
    "data\n",
    "#%%\n",
    "h.split_data(data)\n",
    "\n",
    "#%%\n",
    "ml = h.train_model()\n",
    "ml\n",
    "\n",
    "#%%\n",
    "ml.leader\n",
    "#%%\n",
    "h.save_md(ml)\n",
    "\n",
    "#%%\n",
    "h.predict(h.test)\n",
    "\n",
    "#%%\n",
    "h.test[h.y].cbind(h.preds)\n",
    "# %%\n",
    "t = h.test\n",
    "# predict(data) 에 다른 데이터 생성해서 넣어서 테스트 해보면 됨 \n",
    "\n",
    "#%%\n",
    "# t = t.drop(21)\n",
    "h.predict(t)\n",
    "# t\n",
    "\n",
    "#%%\n",
    "h.preds\n",
    "\n",
    "#%%\n",
    "pre = h.load_data(r\"D:\\\\Project\\\\tesseract\\\\regex_result\\\\model2.csv\")\n",
    "\n",
    "#%%\n",
    "h.predict(pre) \n",
    "h.preds\n",
    "\n",
    "#%%\n",
    "model = h.load_model(r\"D:\\\\model\\\\GBM_1_AutoML_20210323_104837\")\n",
    "\n",
    "#%%\n",
    "ppp = model.predict(pre)\n",
    "ppp'''"
   ]
  },
  {
   "cell_type": "code",
   "execution_count": 5,
   "id": "458150c0",
   "metadata": {},
   "outputs": [
    {
     "name": "stdout",
     "output_type": "stream",
     "text": [
      "Checking whether there is an H2O instance running at http://localhost:54321 ..... not found.\n",
      "Attempting to start a local H2O server...\n",
      "; Java HotSpot(TM) 64-Bit Server VM (build 25.131-b11, mixed mode)\n",
      "  Starting server from D:\\Project\\pid\\Lib\\site-packages\\h2o\\backend\\bin\\h2o.jar\n",
      "  Ice root: C:\\Users\\kbj80\\DOCUME~1\\MobaXterm\\slash\\var\\log\\xwin\\tmp4betk_wu\n",
      "  JVM stdout: C:\\Users\\kbj80\\DOCUME~1\\MobaXterm\\slash\\var\\log\\xwin\\tmp4betk_wu\\h2o_kbj80_started_from_python.out\n",
      "  JVM stderr: C:\\Users\\kbj80\\DOCUME~1\\MobaXterm\\slash\\var\\log\\xwin\\tmp4betk_wu\\h2o_kbj80_started_from_python.err\n",
      "  Server is running at http://127.0.0.1:54321\n",
      "Connecting to H2O server at http://127.0.0.1:54321 ... successful.\n"
     ]
    },
    {
     "data": {
      "text/html": [
       "<div style=\"overflow:auto\"><table style=\"width:50%\"><tr><td>H2O_cluster_uptime:</td>\n",
       "<td>01 secs</td></tr>\n",
       "<tr><td>H2O_cluster_timezone:</td>\n",
       "<td>Asia/Seoul</td></tr>\n",
       "<tr><td>H2O_data_parsing_timezone:</td>\n",
       "<td>UTC</td></tr>\n",
       "<tr><td>H2O_cluster_version:</td>\n",
       "<td>3.32.1.1</td></tr>\n",
       "<tr><td>H2O_cluster_version_age:</td>\n",
       "<td>1 month and 18 days </td></tr>\n",
       "<tr><td>H2O_cluster_name:</td>\n",
       "<td>H2O_from_python_kbj80_do106i</td></tr>\n",
       "<tr><td>H2O_cluster_total_nodes:</td>\n",
       "<td>1</td></tr>\n",
       "<tr><td>H2O_cluster_free_memory:</td>\n",
       "<td>7.089 Gb</td></tr>\n",
       "<tr><td>H2O_cluster_total_cores:</td>\n",
       "<td>8</td></tr>\n",
       "<tr><td>H2O_cluster_allowed_cores:</td>\n",
       "<td>8</td></tr>\n",
       "<tr><td>H2O_cluster_status:</td>\n",
       "<td>accepting new members, healthy</td></tr>\n",
       "<tr><td>H2O_connection_url:</td>\n",
       "<td>http://127.0.0.1:54321</td></tr>\n",
       "<tr><td>H2O_connection_proxy:</td>\n",
       "<td>{\"http\": null, \"https\": null}</td></tr>\n",
       "<tr><td>H2O_internal_security:</td>\n",
       "<td>False</td></tr>\n",
       "<tr><td>H2O_API_Extensions:</td>\n",
       "<td>Amazon S3, Algos, AutoML, Core V3, TargetEncoder, Core V4</td></tr>\n",
       "<tr><td>Python_version:</td>\n",
       "<td>3.8.10 final</td></tr></table></div>"
      ],
      "text/plain": [
       "--------------------------  ---------------------------------------------------------\n",
       "H2O_cluster_uptime:         01 secs\n",
       "H2O_cluster_timezone:       Asia/Seoul\n",
       "H2O_data_parsing_timezone:  UTC\n",
       "H2O_cluster_version:        3.32.1.1\n",
       "H2O_cluster_version_age:    1 month and 18 days\n",
       "H2O_cluster_name:           H2O_from_python_kbj80_do106i\n",
       "H2O_cluster_total_nodes:    1\n",
       "H2O_cluster_free_memory:    7.089 Gb\n",
       "H2O_cluster_total_cores:    8\n",
       "H2O_cluster_allowed_cores:  8\n",
       "H2O_cluster_status:         accepting new members, healthy\n",
       "H2O_connection_url:         http://127.0.0.1:54321\n",
       "H2O_connection_proxy:       {\"http\": null, \"https\": null}\n",
       "H2O_internal_security:      False\n",
       "H2O_API_Extensions:         Amazon S3, Algos, AutoML, Core V3, TargetEncoder, Core V4\n",
       "Python_version:             3.8.10 final\n",
       "--------------------------  ---------------------------------------------------------"
      ]
     },
     "metadata": {},
     "output_type": "display_data"
    }
   ],
   "source": [
    "h = H2oClass()"
   ]
  },
  {
   "cell_type": "code",
   "execution_count": 14,
   "id": "97cafdf4",
   "metadata": {},
   "outputs": [
    {
     "name": "stdout",
     "output_type": "stream",
     "text": [
      "Parse progress: |█████████████████████████████████████████████████████████| 100%\n"
     ]
    },
    {
     "data": {
      "text/html": [
       "<table>\n",
       "<thead>\n",
       "<tr><th style=\"text-align: right;\">  id</th><th style=\"text-align: right;\">  reg_count</th><th style=\"text-align: right;\">  col1</th><th style=\"text-align: right;\">  col2</th><th style=\"text-align: right;\">  col3</th><th style=\"text-align: right;\">  col4</th><th style=\"text-align: right;\">  col5</th><th style=\"text-align: right;\">  col6</th><th style=\"text-align: right;\">  col7</th><th style=\"text-align: right;\">  col8</th><th style=\"text-align: right;\">  col9</th><th style=\"text-align: right;\">  col10</th></tr>\n",
       "</thead>\n",
       "<tbody>\n",
       "<tr><td style=\"text-align: right;\">  55</td><td style=\"text-align: right;\">          3</td><td style=\"text-align: right;\">     0</td><td style=\"text-align: right;\">     0</td><td style=\"text-align: right;\">     0</td><td style=\"text-align: right;\">     0</td><td style=\"text-align: right;\">     0</td><td style=\"text-align: right;\">     0</td><td style=\"text-align: right;\">     1</td><td style=\"text-align: right;\">     0</td><td style=\"text-align: right;\">     0</td><td style=\"text-align: right;\">      0</td></tr>\n",
       "</tbody>\n",
       "</table>"
      ]
     },
     "metadata": {},
     "output_type": "display_data"
    },
    {
     "data": {
      "text/plain": []
     },
     "execution_count": 14,
     "metadata": {},
     "output_type": "execute_result"
    }
   ],
   "source": [
    "data = h.load_csv_to_hf(\"./../../data/samples/h2o_test.csv\")\n",
    "data = data.drop(['y'],axis=1)\n",
    "data"
   ]
  },
  {
   "cell_type": "code",
   "execution_count": 9,
   "id": "b17e5686",
   "metadata": {},
   "outputs": [],
   "source": [
    "md = h2o.load_model(H2O_MODEL_PATH+ 'GBM_1_AutoML_20210423_140912')"
   ]
  },
  {
   "cell_type": "code",
   "execution_count": 16,
   "id": "1b9f1003",
   "metadata": {},
   "outputs": [
    {
     "name": "stdout",
     "output_type": "stream",
     "text": [
      "gbm prediction progress: |████████████████████████████████████████████████| 100%\n"
     ]
    },
    {
     "data": {
      "text/html": [
       "<table>\n",
       "<thead>\n",
       "<tr><th style=\"text-align: right;\">  predict</th><th style=\"text-align: right;\">  p0</th><th style=\"text-align: right;\">  p1</th></tr>\n",
       "</thead>\n",
       "<tbody>\n",
       "<tr><td style=\"text-align: right;\">        1</td><td style=\"text-align: right;\">   0</td><td style=\"text-align: right;\">   1</td></tr>\n",
       "</tbody>\n",
       "</table>"
      ]
     },
     "metadata": {},
     "output_type": "display_data"
    },
    {
     "data": {
      "text/plain": []
     },
     "execution_count": 16,
     "metadata": {},
     "output_type": "execute_result"
    }
   ],
   "source": [
    "md.predict(data)"
   ]
  },
  {
   "cell_type": "code",
   "execution_count": 11,
   "id": "b121f559",
   "metadata": {},
   "outputs": [
    {
     "name": "stdout",
     "output_type": "stream",
     "text": [
      "None\n"
     ]
    }
   ],
   "source": [
    "print(h.model)"
   ]
  }
 ],
 "metadata": {
  "kernelspec": {
   "display_name": "pidkernel",
   "language": "python",
   "name": "pid"
  },
  "language_info": {
   "codemirror_mode": {
    "name": "ipython",
    "version": 3
   },
   "file_extension": ".py",
   "mimetype": "text/x-python",
   "name": "python",
   "nbconvert_exporter": "python",
   "pygments_lexer": "ipython3",
   "version": "3.8.10"
  }
 },
 "nbformat": 4,
 "nbformat_minor": 5
}
